{
 "cells": [
  {
   "cell_type": "markdown",
   "metadata": {},
   "source": [
    "## Carregar alguns pacotes necessários"
   ]
  },
  {
   "cell_type": "code",
   "execution_count": 3,
   "metadata": {},
   "outputs": [],
   "source": [
    "import imblearn"
   ]
  },
  {
   "cell_type": "code",
   "execution_count": 4,
   "metadata": {},
   "outputs": [
    {
     "name": "stdout",
     "output_type": "stream",
     "text": [
      "0.7.0\n"
     ]
    }
   ],
   "source": [
    "print(imblearn.__version__)"
   ]
  },
  {
   "cell_type": "code",
   "execution_count": 5,
   "metadata": {},
   "outputs": [],
   "source": [
    "from imblearn.over_sampling import SMOTE\n",
    "from imblearn.under_sampling import RandomUnderSampler\n",
    "from imblearn.pipeline import Pipeline"
   ]
  },
  {
   "cell_type": "code",
   "execution_count": 6,
   "metadata": {},
   "outputs": [],
   "source": [
    "import pandas as pd"
   ]
  },
  {
   "cell_type": "code",
   "execution_count": 7,
   "metadata": {},
   "outputs": [],
   "source": [
    "import numpy as np"
   ]
  },
  {
   "cell_type": "markdown",
   "metadata": {},
   "source": [
    "## Carregar os arquivos"
   ]
  },
  {
   "cell_type": "code",
   "execution_count": 8,
   "metadata": {},
   "outputs": [],
   "source": [
    "dataGAL = pd.read_excel('dataGAL.xlsx')\n",
    "\n",
    "dataGLO = pd.read_excel('dataGLO.xlsx')\n",
    "\n",
    "dataGPS = pd.read_excel('dataGPS.xlsx')\n",
    "\n",
    "dataSBA = pd.read_excel('dataSBA.xlsx')"
   ]
  },
  {
   "cell_type": "markdown",
   "metadata": {},
   "source": [
    "Adicionar as labels em cada amostra, se ' s4_corrected_vert' > 0,1 a label correspondente é 1, do contrário, a label é 0."
   ]
  },
  {
   "cell_type": "code",
   "execution_count": 9,
   "metadata": {},
   "outputs": [],
   "source": [
    "dataGAL['label'] = dataGAL.apply(lambda row: 1 if row[' s4_corrected_vert'] > 0.1 else 0, axis=1)"
   ]
  },
  {
   "cell_type": "code",
   "execution_count": 10,
   "metadata": {},
   "outputs": [],
   "source": [
    "dataGLO['label'] = dataGLO.apply(lambda row: 1 if row[' s4_corrected_vert'] > 0.1 else 0, axis=1)"
   ]
  },
  {
   "cell_type": "code",
   "execution_count": 11,
   "metadata": {},
   "outputs": [],
   "source": [
    "dataGPS['label'] = dataGPS.apply(lambda row: 1 if row[' s4_corrected_vert'] > 0.1 else 0, axis=1)"
   ]
  },
  {
   "cell_type": "code",
   "execution_count": 12,
   "metadata": {},
   "outputs": [],
   "source": [
    "dataSBA['label'] = dataSBA.apply(lambda row: 1 if row[' s4_corrected_vert'] > 0.1 else 0, axis=1)"
   ]
  },
  {
   "cell_type": "markdown",
   "metadata": {},
   "source": [
    "## Informações das bases de dados"
   ]
  },
  {
   "cell_type": "markdown",
   "metadata": {},
   "source": [
    "Verificação da quantidade de amostras pertencentes à classe NC, 's4_corrected_vert' <= 0,1, classe C, 's4_corrected_vert' > 0,1 e porcentagem de amostras da classe C, respectivamente."
   ]
  },
  {
   "cell_type": "code",
   "execution_count": 13,
   "metadata": {},
   "outputs": [
    {
     "data": {
      "text/plain": [
       "(76838, 7959, 0.09385945257497318)"
      ]
     },
     "execution_count": 13,
     "metadata": {},
     "output_type": "execute_result"
    }
   ],
   "source": [
    "dataGAL.loc[dataGAL['label'] == 0, 'label'].count(), dataGAL.loc[dataGAL['label'] == 1, 'label'].count(), dataGAL.loc[dataGAL['label'] == 1, 'label'].count()/len(dataGAL)"
   ]
  },
  {
   "cell_type": "code",
   "execution_count": 14,
   "metadata": {},
   "outputs": [
    {
     "data": {
      "text/plain": [
       "(236171, 22130, 0.08567523935253832)"
      ]
     },
     "execution_count": 14,
     "metadata": {},
     "output_type": "execute_result"
    }
   ],
   "source": [
    "dataGLO.loc[dataGLO['label'] == 0, 'label'].count(), dataGLO.loc[dataGLO['label'] == 1, 'label'].count(), dataGLO.loc[dataGLO['label'] == 1, 'label'].count()/len(dataGLO)"
   ]
  },
  {
   "cell_type": "code",
   "execution_count": 15,
   "metadata": {},
   "outputs": [
    {
     "data": {
      "text/plain": [
       "(237864, 20434, 0.07911017506910623)"
      ]
     },
     "execution_count": 15,
     "metadata": {},
     "output_type": "execute_result"
    }
   ],
   "source": [
    "dataGPS.loc[dataGPS['label'] == 0, 'label'].count(), dataGPS.loc[dataGPS['label'] == 1, 'label'].count(), dataGPS.loc[dataGPS['label'] == 1, 'label'].count()/len(dataGPS)"
   ]
  },
  {
   "cell_type": "code",
   "execution_count": 16,
   "metadata": {},
   "outputs": [
    {
     "data": {
      "text/plain": [
       "(141880, 11956, 0.07771912946254453)"
      ]
     },
     "execution_count": 16,
     "metadata": {},
     "output_type": "execute_result"
    }
   ],
   "source": [
    "dataSBA.loc[dataSBA['label'] == 0, 'label'].count(), dataSBA.loc[dataSBA['label'] == 1, 'label'].count(), dataSBA.loc[dataSBA['label'] == 1, 'label'].count()/len(dataSBA)"
   ]
  },
  {
   "cell_type": "markdown",
   "metadata": {},
   "source": [
    "## Definindo as variáveis dependentes e independentes, X e Y, respectivamente"
   ]
  },
  {
   "cell_type": "code",
   "execution_count": 17,
   "metadata": {},
   "outputs": [],
   "source": [
    "X_GAL, Y_GAL = dataGAL.iloc[:,[0,1,2]].copy(), dataGAL['label'].copy()"
   ]
  },
  {
   "cell_type": "code",
   "execution_count": 18,
   "metadata": {},
   "outputs": [],
   "source": [
    "X_GLO, Y_GLO = dataGLO.iloc[:,[0,1,2]].copy(), dataGLO['label'].copy()"
   ]
  },
  {
   "cell_type": "code",
   "execution_count": 19,
   "metadata": {},
   "outputs": [],
   "source": [
    "X_GPS, Y_GPS = dataGPS.iloc[:,[0,1,2]].copy(), dataGPS['label'].copy()"
   ]
  },
  {
   "cell_type": "code",
   "execution_count": 20,
   "metadata": {},
   "outputs": [],
   "source": [
    "X_SBA, Y_SBA = dataSBA.iloc[:,[0,1,2]].copy(), dataSBA['label'].copy()"
   ]
  },
  {
   "cell_type": "code",
   "execution_count": 21,
   "metadata": {},
   "outputs": [],
   "source": [
    "X_GAL, Y_GAL = X_GAL.values, Y_GAL.values"
   ]
  },
  {
   "cell_type": "code",
   "execution_count": 22,
   "metadata": {},
   "outputs": [],
   "source": [
    "X_GLO, Y_GLO = X_GLO.values, Y_GLO.values"
   ]
  },
  {
   "cell_type": "code",
   "execution_count": 23,
   "metadata": {},
   "outputs": [],
   "source": [
    "X_GPS, Y_GPS = X_GPS.values, Y_GPS.values"
   ]
  },
  {
   "cell_type": "code",
   "execution_count": 24,
   "metadata": {},
   "outputs": [],
   "source": [
    "X_SBA, Y_SBA = X_SBA.values, Y_SBA.values"
   ]
  },
  {
   "cell_type": "markdown",
   "metadata": {},
   "source": [
    "## Processo usado para tratar o desbalanceamento de classes observado"
   ]
  },
  {
   "cell_type": "code",
   "execution_count": 25,
   "metadata": {},
   "outputs": [],
   "source": [
    "over = SMOTE(sampling_strategy=0.3)\n",
    "under = RandomUnderSampler(sampling_strategy=0.5)"
   ]
  },
  {
   "cell_type": "code",
   "execution_count": 26,
   "metadata": {},
   "outputs": [],
   "source": [
    "steps = [('o', over), ('u', under)]\n",
    "pipeline = Pipeline(steps=steps)"
   ]
  },
  {
   "cell_type": "code",
   "execution_count": 27,
   "metadata": {},
   "outputs": [],
   "source": [
    "X_GAL_RS, Y_GAL_RS = pipeline.fit_resample(X_GAL, Y_GAL)"
   ]
  },
  {
   "cell_type": "code",
   "execution_count": 28,
   "metadata": {},
   "outputs": [],
   "source": [
    "X_GLO_RS, Y_GLO_RS = pipeline.fit_resample(X_GLO, Y_GLO)"
   ]
  },
  {
   "cell_type": "code",
   "execution_count": 29,
   "metadata": {},
   "outputs": [],
   "source": [
    "X_GPS_RS, Y_GPS_RS = pipeline.fit_resample(X_GPS, Y_GPS)"
   ]
  },
  {
   "cell_type": "code",
   "execution_count": 30,
   "metadata": {},
   "outputs": [],
   "source": [
    "X_SBA_RS, Y_SBA_RS = pipeline.fit_resample(X_SBA, Y_SBA)"
   ]
  },
  {
   "cell_type": "markdown",
   "metadata": {},
   "source": [
    "Quantidade de amostras nas classes C e NC após o processo de geração de amostras artificiais da classe minoritária e posterior subamostragem das amostras da classe majoritária."
   ]
  },
  {
   "cell_type": "code",
   "execution_count": 32,
   "metadata": {},
   "outputs": [
    {
     "data": {
      "text/plain": [
       "(23051, 46102)"
      ]
     },
     "execution_count": 32,
     "metadata": {},
     "output_type": "execute_result"
    }
   ],
   "source": [
    "np.count_nonzero(Y_GAL_RS == 1), np.count_nonzero(Y_GAL_RS == 0)"
   ]
  },
  {
   "cell_type": "code",
   "execution_count": 34,
   "metadata": {},
   "outputs": [
    {
     "data": {
      "text/plain": [
       "(70851, 141702)"
      ]
     },
     "execution_count": 34,
     "metadata": {},
     "output_type": "execute_result"
    }
   ],
   "source": [
    "np.count_nonzero(Y_GLO_RS == 1), np.count_nonzero(Y_GLO_RS == 0)"
   ]
  },
  {
   "cell_type": "code",
   "execution_count": 35,
   "metadata": {},
   "outputs": [
    {
     "data": {
      "text/plain": [
       "(71359, 142718)"
      ]
     },
     "execution_count": 35,
     "metadata": {},
     "output_type": "execute_result"
    }
   ],
   "source": [
    "np.count_nonzero(Y_GPS_RS == 1), np.count_nonzero(Y_GPS_RS == 0)"
   ]
  },
  {
   "cell_type": "code",
   "execution_count": 36,
   "metadata": {},
   "outputs": [
    {
     "data": {
      "text/plain": [
       "(42564, 85128)"
      ]
     },
     "execution_count": 36,
     "metadata": {},
     "output_type": "execute_result"
    }
   ],
   "source": [
    "np.count_nonzero(Y_SBA_RS == 1), np.count_nonzero(Y_SBA_RS == 0)"
   ]
  },
  {
   "cell_type": "markdown",
   "metadata": {},
   "source": [
    "## Contrução do modelo SVM"
   ]
  },
  {
   "cell_type": "markdown",
   "metadata": {},
   "source": [
    "### Pré-processamento dos dados"
   ]
  },
  {
   "cell_type": "code",
   "execution_count": 37,
   "metadata": {},
   "outputs": [],
   "source": [
    "from sklearn.preprocessing import StandardScaler\n",
    "\n",
    "scaler = StandardScaler()"
   ]
  },
  {
   "cell_type": "code",
   "execution_count": 38,
   "metadata": {},
   "outputs": [],
   "source": [
    "X_GAL_SVM = scaler.fit_transform(X_GAL_RS)"
   ]
  },
  {
   "cell_type": "code",
   "execution_count": 39,
   "metadata": {},
   "outputs": [],
   "source": [
    "X_GLO_SVM = scaler.fit_transform(X_GLO_RS)"
   ]
  },
  {
   "cell_type": "code",
   "execution_count": 40,
   "metadata": {},
   "outputs": [],
   "source": [
    "X_GPS_SVM = scaler.fit_transform(X_GPS_RS)"
   ]
  },
  {
   "cell_type": "code",
   "execution_count": 41,
   "metadata": {},
   "outputs": [],
   "source": [
    "X_SBA_SVM = scaler.fit_transform(X_SBA_RS)"
   ]
  },
  {
   "cell_type": "markdown",
   "metadata": {},
   "source": [
    "### Treinamento e avaliação dos modelos"
   ]
  },
  {
   "cell_type": "code",
   "execution_count": 42,
   "metadata": {},
   "outputs": [],
   "source": [
    "from sklearn.svm import SVC"
   ]
  },
  {
   "cell_type": "code",
   "execution_count": 43,
   "metadata": {},
   "outputs": [],
   "source": [
    "from sklearn.metrics import confusion_matrix\n",
    "\n",
    "def specificity(Y_true, Y_pred):\n",
    "    '''\n",
    "    Função para calcular a métrica Especificidade\n",
    "    '''\n",
    "    \n",
    "    tn, fp, fn, tp = confusion_matrix(Y_true, Y_pred).ravel()\n",
    "    \n",
    "    specificity = tn / (tn+fp)\n",
    "    \n",
    "    return specificity   "
   ]
  },
  {
   "cell_type": "code",
   "execution_count": 44,
   "metadata": {},
   "outputs": [],
   "source": [
    "def apply_KFold_SVM(X, Y, k):\n",
    "    '''\n",
    "    Função para aplicar o processo de validação cruzada K-fold\n",
    "    input\n",
    "    -----\n",
    "    X: np.array\n",
    "        variável independente\n",
    "    Y: np.array\n",
    "        labels\n",
    "    k: int\n",
    "        quantidade de folds\n",
    "    '''\n",
    "    kf = StratifiedKFold(n_splits=k)\n",
    "    kf.get_n_splits(X)\n",
    "    Acuracia_k_fold = []\n",
    "    f1_score_k_fold = []\n",
    "    recall_k_fold = []\n",
    "    precision_k_fold = []\n",
    "    specificity_k_fold = []\n",
    "    for train_index, test_index in kf.split(X, Y):\n",
    "        X_train, X_test = X[train_index], X[test_index]\n",
    "        Y_train, Y_test = Y[train_index], Y[test_index]\n",
    "        # model\n",
    "        svm = SVC()\n",
    "        svm.fit(X_train, Y_train)\n",
    "        Y_pred = svm.predict(X_test)\n",
    "        Acuracia_k_fold.append(accuracy_score(Y_test,Y_pred))\n",
    "        f1_score_k_fold.append(f1_score(Y_test,Y_pred))\n",
    "        recall_k_fold.append(recall_score(Y_test,Y_pred))\n",
    "        precision_k_fold.append(precision_score(Y_test,Y_pred))\n",
    "        specificity_k_fold.append(specificity(Y_test,Y_pred))\n",
    "  \n",
    "  # obter os valores médios das métricas\n",
    "\n",
    "    mean_acc = sum(Acuracia_k_fold)/k\n",
    "\n",
    "    mean_f1 = sum(f1_score_k_fold)/k\n",
    "    \n",
    "    mean_recall = sum(recall_k_fold)/k\n",
    "    \n",
    "    mean_precision = sum(precision_k_fold)/k\n",
    "    \n",
    "    mean_specificity = sum(specificity_k_fold)/k\n",
    "\n",
    "  # return\n",
    "\n",
    "    print('Accuracy: '+ str(mean_acc))\n",
    "    print('F1-score: '+ str(mean_f1))\n",
    "    print('Precision: '+ str(mean_precision))\n",
    "    print('Recall: '+ str(mean_recall))\n",
    "    print('Specificity: '+ str(mean_specificity))"
   ]
  },
  {
   "cell_type": "code",
   "execution_count": 51,
   "metadata": {},
   "outputs": [
    {
     "name": "stdout",
     "output_type": "stream",
     "text": [
      "Accuracy: 0.9971801625706181\n",
      "F1-score: 0.9957880317816639\n",
      "Precision: 0.9917404027036907\n",
      "Recall: 0.9998698481561823\n",
      "Specificity: 0.9958353244693086\n"
     ]
    }
   ],
   "source": [
    "apply_KFold_SVM(X_GAL_SVM, Y_GAL_RS, 10)"
   ]
  },
  {
   "cell_type": "code",
   "execution_count": 52,
   "metadata": {},
   "outputs": [
    {
     "name": "stdout",
     "output_type": "stream",
     "text": [
      "Accuracy: 0.9977182156081497\n",
      "F1-score: 0.9965890993085956\n",
      "Precision: 0.9932015946772547\n",
      "Recall: 1.0\n",
      "Specificity: 0.9965773252371092\n"
     ]
    }
   ],
   "source": [
    "apply_KFold_SVM(X_GLO_SVM, Y_GLO_RS, 10)"
   ]
  },
  {
   "cell_type": "code",
   "execution_count": 53,
   "metadata": {},
   "outputs": [
    {
     "name": "stdout",
     "output_type": "stream",
     "text": [
      "Accuracy: 0.9978605838335156\n",
      "F1-score: 0.9968013084349687\n",
      "Precision: 0.9936372807004998\n",
      "Recall: 0.9999859865470853\n",
      "Specificity: 0.9967978813301018\n"
     ]
    }
   ],
   "source": [
    "apply_KFold_SVM(X_GPS_SVM, Y_GPS_RS, 10)"
   ]
  },
  {
   "cell_type": "code",
   "execution_count": 54,
   "metadata": {},
   "outputs": [
    {
     "name": "stdout",
     "output_type": "stream",
     "text": [
      "Accuracy: 0.9976192751716806\n",
      "F1-score: 0.9964418726799869\n",
      "Precision: 0.9929094834591993\n",
      "Recall: 1.0\n",
      "Specificity: 0.9964289150538452\n"
     ]
    }
   ],
   "source": [
    "apply_KFold_SVM(X_SBA_SVM, Y_SBA_RS, 10)"
   ]
  }
 ],
 "metadata": {
  "kernelspec": {
   "display_name": "Python 3.7.3 64-bit ('base': conda)",
   "language": "python",
   "name": "python37364bitbaseconda4020c3dbcb9045e7a83a1b497ac51dac"
  },
  "language_info": {
   "codemirror_mode": {
    "name": "ipython",
    "version": 3
   },
   "file_extension": ".py",
   "mimetype": "text/x-python",
   "name": "python",
   "nbconvert_exporter": "python",
   "pygments_lexer": "ipython3",
   "version": "3.7.7"
  }
 },
 "nbformat": 4,
 "nbformat_minor": 4
}
